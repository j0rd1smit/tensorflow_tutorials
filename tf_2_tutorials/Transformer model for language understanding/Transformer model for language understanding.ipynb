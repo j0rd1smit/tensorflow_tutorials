{
 "cells": [
  {
   "cell_type": "code",
   "execution_count": 2,
   "metadata": {
    "pycharm": {
     "is_executing": false
    }
   },
   "outputs": [],
   "source": [
    "import tensorflow_datasets as tfds\n",
    "import tensorflow as tf\n",
    "\n",
    "import time\n",
    "import numpy as np\n",
    "import matplotlib.pyplot as plt"
   ]
  },
  {
   "cell_type": "code",
   "execution_count": 3,
   "metadata": {},
   "outputs": [],
   "source": [
    "examples, metadata = tfds.load('ted_hrlr_translate/pt_to_en', with_info=True, as_supervised=True)\n",
    "train_examples, val_examples = examples['train'], examples['validation']"
   ]
  },
  {
   "cell_type": "code",
   "execution_count": 4,
   "metadata": {},
   "outputs": [],
   "source": [
    "tokenizer_en = tfds.features.text.SubwordTextEncoder.build_from_corpus(\n",
    "    (en.numpy() for pt, en in train_examples), target_vocab_size=2**13\n",
    ")\n",
    "\n",
    "tokenizer_pt = tfds.features.text.SubwordTextEncoder.build_from_corpus(\n",
    "    (pt.numpy() for pt, en in train_examples), target_vocab_size=2**13\n",
    ")"
   ]
  },
  {
   "cell_type": "code",
   "execution_count": 5,
   "metadata": {},
   "outputs": [
    {
     "name": "stdout",
     "output_type": "stream",
     "text": [
      "Tokenized string is [7905, 5335, 12, 13, 2799, 7877]\n",
      "The original string: Jordi is awesome.\n"
     ]
    }
   ],
   "source": [
    "sample_string = 'Jordi is awesome.'\n",
    "\n",
    "tokenized_string = tokenizer_en.encode(sample_string)\n",
    "print ('Tokenized string is {}'.format(tokenized_string))\n",
    "\n",
    "original_string = tokenizer_en.decode(tokenized_string)\n",
    "print ('The original string: {}'.format(original_string))\n",
    "\n",
    "assert original_string == sample_string"
   ]
  },
  {
   "cell_type": "code",
   "execution_count": 42,
   "metadata": {},
   "outputs": [
    {
     "name": "stdout",
     "output_type": "stream",
     "text": [
      "7905 ----> J\n",
      "5335 ----> ord\n",
      "12 ----> i \n",
      "13 ----> is \n",
      "2799 ----> awesome\n",
      "7877 ----> .\n"
     ]
    }
   ],
   "source": [
    "for ts in tokenized_string:\n",
    "    print ('{} ----> {}'.format(ts, tokenizer_en.decode([ts])))"
   ]
  },
  {
   "cell_type": "code",
   "execution_count": 43,
   "metadata": {},
   "outputs": [],
   "source": [
    "BUFFER_SIZE = 20000\n",
    "BATCH_SIZE = 64"
   ]
  },
  {
   "cell_type": "code",
   "execution_count": 44,
   "metadata": {},
   "outputs": [],
   "source": [
    "def encode(lang1, lang2):\n",
    "    lang1 = [tokenizer_pt.vocab_size] + tokenizer_pt.encode(lang1.numpy()) + [tokenizer_pt.vocab_size+1]\n",
    "\n",
    "    lang2 = [tokenizer_en.vocab_size] + tokenizer_en.encode(lang2.numpy()) + [tokenizer_en.vocab_size+1]\n",
    "\n",
    "    return lang1, lang2"
   ]
  },
  {
   "cell_type": "code",
   "execution_count": 45,
   "metadata": {},
   "outputs": [],
   "source": [
    "MAX_LENGTH = 40"
   ]
  },
  {
   "cell_type": "code",
   "execution_count": 46,
   "metadata": {},
   "outputs": [],
   "source": [
    "def filter_max_length(x, y, max_length=MAX_LENGTH):\n",
    "    return tf.logical_and(tf.size(x) <= max_length, tf.size(y) <= max_length)"
   ]
  },
  {
   "cell_type": "code",
   "execution_count": 47,
   "metadata": {},
   "outputs": [],
   "source": [
    "def tf_encode(pt, en):\n",
    "    return tf.py_function(encode, [pt, en], [tf.int64, tf.int64])"
   ]
  },
  {
   "cell_type": "code",
   "execution_count": 48,
   "metadata": {},
   "outputs": [],
   "source": [
    "train_dataset = train_examples.map(tf_encode)\n",
    "train_dataset = train_dataset.filter(filter_max_length)\n",
    "# cache the dataset to memory to get a speedup while reading from it.\n",
    "train_dataset = train_dataset.cache()\n",
    "train_dataset = train_dataset.shuffle(BUFFER_SIZE).padded_batch(BATCH_SIZE, padded_shapes=([-1], [-1]))\n",
    "train_dataset = train_dataset.prefetch(tf.data.experimental.AUTOTUNE)\n",
    "\n",
    "\n",
    "val_dataset = val_examples.map(tf_encode)\n",
    "val_dataset = val_dataset.filter(filter_max_length).padded_batch(BATCH_SIZE, padded_shapes=([-1], [-1]))"
   ]
  },
  {
   "cell_type": "code",
   "execution_count": 49,
   "metadata": {},
   "outputs": [
    {
     "data": {
      "text/plain": [
       "(<tf.Tensor: id=316947, shape=(64, 40), dtype=int64, numpy=\n",
       " array([[8214, 1259,    5, ...,    0,    0,    0],\n",
       "        [8214,  299,   13, ...,    0,    0,    0],\n",
       "        [8214,   59,    8, ...,    0,    0,    0],\n",
       "        ...,\n",
       "        [8214,   95,    3, ...,    0,    0,    0],\n",
       "        [8214, 5157,    1, ...,    0,    0,    0],\n",
       "        [8214, 4479, 7990, ...,    0,    0,    0]], dtype=int64)>,\n",
       " <tf.Tensor: id=316948, shape=(64, 40), dtype=int64, numpy=\n",
       " array([[8087,   18,   12, ...,    0,    0,    0],\n",
       "        [8087,  634,   30, ...,    0,    0,    0],\n",
       "        [8087,   16,   13, ...,    0,    0,    0],\n",
       "        ...,\n",
       "        [8087,   12,   20, ...,    0,    0,    0],\n",
       "        [8087,   17, 4981, ...,    0,    0,    0],\n",
       "        [8087,   12, 5453, ...,    0,    0,    0]], dtype=int64)>)"
      ]
     },
     "execution_count": 49,
     "metadata": {},
     "output_type": "execute_result"
    }
   ],
   "source": [
    "pt_batch, en_batch = next(iter(val_dataset))\n",
    "pt_batch, en_batch"
   ]
  },
  {
   "cell_type": "code",
   "execution_count": 51,
   "metadata": {},
   "outputs": [],
   "source": [
    "def get_angles(pos, i, d_model):\n",
    "    angle_rates = 1 / np.power(10000, (2 * (i//2)) / np.float32(d_model))\n",
    "    return pos * angle_rates"
   ]
  },
  {
   "cell_type": "code",
   "execution_count": 52,
   "metadata": {},
   "outputs": [],
   "source": [
    "def positional_encoding(position, d_model):\n",
    "    angle_rads = get_angles(np.arange(position)[:, np.newaxis],\n",
    "                          np.arange(d_model)[np.newaxis, :],\n",
    "                          d_model)\n",
    "\n",
    "    # apply sin to even indices in the array; 2i\n",
    "    sines = np.sin(angle_rads[:, 0::2])\n",
    "\n",
    "    # apply cos to odd indices in the array; 2i+1\n",
    "    cosines = np.cos(angle_rads[:, 1::2])\n",
    "\n",
    "    pos_encoding = np.concatenate([sines, cosines], axis=-1)\n",
    "\n",
    "    pos_encoding = pos_encoding[np.newaxis, ...]\n",
    "\n",
    "    return tf.cast(pos_encoding, dtype=tf.float32)"
   ]
  },
  {
   "cell_type": "code",
   "execution_count": 53,
   "metadata": {},
   "outputs": [
    {
     "name": "stdout",
     "output_type": "stream",
     "text": [
      "(1, 50, 512)\n"
     ]
    },
    {
     "data": {
      "image/png": "[encoded data removed]",
      "text/plain": [
       "<Figure size 432x288 with 2 Axes>"
      ]
     },
     "metadata": {
      "needs_background": "light"
     },
     "output_type": "display_data"
    }
   ],
   "source": [
    "pos_encoding = positional_encoding(50, 512)\n",
    "print (pos_encoding.shape)\n",
    "\n",
    "plt.pcolormesh(pos_encoding[0], cmap='RdBu')\n",
    "plt.xlabel('Depth')\n",
    "plt.xlim((0, 512))\n",
    "plt.ylabel('Position')\n",
    "plt.colorbar()\n",
    "plt.show()"
   ]
  },
  {
   "cell_type": "code",
   "execution_count": 54,
   "metadata": {},
   "outputs": [],
   "source": [
    "def create_padding_mask(seq):\n",
    "    seq = tf.cast(tf.math.equal(seq, 0), tf.float32)\n",
    "\n",
    "    # add extra dimensions so that we can add the padding\n",
    "    # to the attention logits.\n",
    "    return seq[:, tf.newaxis, tf.newaxis, :]  # (batch_size, 1, 1, seq_len)"
   ]
  },
  {
   "cell_type": "code",
   "execution_count": 167,
   "metadata": {},
   "outputs": [
    {
     "data": {
      "text/plain": [
       "<tf.Tensor: id=324428, shape=(3, 1, 1, 5), dtype=float32, numpy=\n",
       "array([[[[0., 0., 1., 1., 0.]]],\n",
       "\n",
       "\n",
       "       [[[0., 0., 0., 1., 1.]]],\n",
       "\n",
       "\n",
       "       [[[1., 1., 1., 0., 0.]]]], dtype=float32)>"
      ]
     },
     "execution_count": 167,
     "metadata": {},
     "output_type": "execute_result"
    }
   ],
   "source": [
    "x = tf.constant([[7, 6, 0, 0, 1], [1, 2, 3, 0, 0], [0, 0, 0, 4, 5]])\n",
    "create_padding_mask(x)"
   ]
  },
  {
   "cell_type": "code",
   "execution_count": 169,
   "metadata": {},
   "outputs": [],
   "source": [
    "def create_look_ahead_mask(size):\n",
    "    mask = 1 - tf.linalg.band_part(tf.ones((size, size)), -1, 0)\n",
    "    return mask  # (seq_len, seq_len)"
   ]
  },
  {
   "cell_type": "code",
   "execution_count": 170,
   "metadata": {},
   "outputs": [
    {
     "data": {
      "text/plain": [
       "<tf.Tensor: id=324444, shape=(3, 3), dtype=float32, numpy=\n",
       "array([[0., 1., 1.],\n",
       "       [0., 0., 1.],\n",
       "       [0., 0., 0.]], dtype=float32)>"
      ]
     },
     "execution_count": 170,
     "metadata": {},
     "output_type": "execute_result"
    }
   ],
   "source": [
    "x = tf.random.uniform((1, 3))\n",
    "temp = create_look_ahead_mask(x.shape[1])\n",
    "temp"
   ]
  },
  {
   "cell_type": "code",
   "execution_count": 158,
   "metadata": {},
   "outputs": [],
   "source": [
    "def scaled_dot_product_attention(q, k, v, mask):\n",
    "    \"\"\"Calculate the attention weights.\n",
    "    q, k, v must have matching leading dimensions.\n",
    "    k, v must have matching penultimate dimension, i.e.: seq_len_k = seq_len_v.\n",
    "    The mask has different shapes depending on its type(padding or look ahead) \n",
    "    but it must be broadcastable for addition.\n",
    "\n",
    "    Args:\n",
    "    q: query shape == (..., seq_len_q, depth)\n",
    "    k: key shape == (..., seq_len_k, depth)\n",
    "    v: value shape == (..., seq_len_v, depth_v)\n",
    "    mask: Float tensor with shape broadcastable \n",
    "          to (..., seq_len_q, seq_len_k). Defaults to None.\n",
    "\n",
    "    Returns:\n",
    "    output, attention_weights\n",
    "    \"\"\"\n",
    "\n",
    "    matmul_qk = tf.matmul(q, k, transpose_b=True)  # (..., seq_len_q, seq_len_k)\n",
    "    print(\"matmul_qk\")\n",
    "    print(matmul_qk.shape)\n",
    "\n",
    "    # scale matmul_qk\n",
    "    dk = tf.cast(tf.shape(k)[-1], tf.float32)\n",
    "    scaled_attention_logits = matmul_qk / tf.math.sqrt(dk)\n",
    "\n",
    "    # add the mask to the scaled tensor.\n",
    "    if mask is not None:\n",
    "        scaled_attention_logits += (mask * -1e9)  \n",
    "        \n",
    "\n",
    "    # softmax is normalized on the last axis (seq_len_k) so that the scores\n",
    "    # add up to 1.\n",
    "    attention_weights = tf.nn.softmax(scaled_attention_logits, axis=-1)  # (..., seq_len_q, seq_len_k)\n",
    "\n",
    "    output = tf.matmul(attention_weights, v)  # (..., seq_len_q, depth_v)\n",
    "\n",
    "    return output, attention_weights"
   ]
  },
  {
   "cell_type": "code",
   "execution_count": 145,
   "metadata": {},
   "outputs": [],
   "source": [
    "def print_out(q, k, v):\n",
    "    #mask = create_look_ahead_mask(tf.shape(k)[1])\n",
    "    mask = None\n",
    "    temp_out, temp_attn = scaled_dot_product_attention(q, k, v, mask)\n",
    "    print(\"mask\")\n",
    "    print(mask)\n",
    "    print ('Attention weights are:')\n",
    "    print (temp_attn)\n",
    "    print ('Output is:')\n",
    "    print (temp_out)"
   ]
  },
  {
   "cell_type": "code",
   "execution_count": 146,
   "metadata": {},
   "outputs": [
    {
     "name": "stdout",
     "output_type": "stream",
     "text": [
      "mask\n",
      "None\n",
      "Attention weights are:\n",
      "tf.Tensor([[0. 1. 0. 0.]], shape=(1, 4), dtype=float32)\n",
      "Output is:\n",
      "tf.Tensor([[10.  0.]], shape=(1, 2), dtype=float32)\n"
     ]
    }
   ],
   "source": [
    "np.set_printoptions(suppress=True)\n",
    "\n",
    "temp_k = tf.constant([[10,0,0],\n",
    "                      [0,10,0],\n",
    "                      [0,0,10],\n",
    "                      [0,0,10]], dtype=tf.float32)  # (4, 3)\n",
    "\n",
    "temp_v = tf.constant([[   1,0],\n",
    "                      [  10,0],\n",
    "                      [ 100,5],\n",
    "                      [1000,6]], dtype=tf.float32)  # (4, 2)\n",
    "\n",
    "# This `query` aligns with the second `key`,\n",
    "# so the second `value` is returned.\n",
    "temp_q = tf.constant([[0, 10, 0]], dtype=tf.float32)  # (1, 3)\n",
    "print_out(temp_q, temp_k, temp_v)"
   ]
  },
  {
   "cell_type": "code",
   "execution_count": 147,
   "metadata": {},
   "outputs": [
    {
     "name": "stdout",
     "output_type": "stream",
     "text": [
      "mask\n",
      "None\n",
      "Attention weights are:\n",
      "tf.Tensor([[0.  0.  0.5 0.5]], shape=(1, 4), dtype=float32)\n",
      "Output is:\n",
      "tf.Tensor([[550.    5.5]], shape=(1, 2), dtype=float32)\n"
     ]
    }
   ],
   "source": [
    "# This query aligns with a repeated key (third and fourth), \n",
    "# so all associated values get averaged.\n",
    "temp_q = tf.constant([[0, 0, 10]], dtype=tf.float32)  # (1, 3)\n",
    "print_out(temp_q, temp_k, temp_v)"
   ]
  },
  {
   "cell_type": "code",
   "execution_count": 148,
   "metadata": {},
   "outputs": [
    {
     "name": "stdout",
     "output_type": "stream",
     "text": [
      "mask\n",
      "None\n",
      "Attention weights are:\n",
      "tf.Tensor(\n",
      "[[0.  0.  0.5 0.5]\n",
      " [0.  1.  0.  0. ]\n",
      " [0.5 0.5 0.  0. ]], shape=(3, 4), dtype=float32)\n",
      "Output is:\n",
      "tf.Tensor(\n",
      "[[550.    5.5]\n",
      " [ 10.    0. ]\n",
      " [  5.5   0. ]], shape=(3, 2), dtype=float32)\n"
     ]
    }
   ],
   "source": [
    "temp_q = tf.constant([[0, 0, 10], [0, 10, 0], [10, 10, 0]], dtype=tf.float32)  # (3, 3)\n",
    "print_out(temp_q, temp_k, temp_v)"
   ]
  },
  {
   "cell_type": "code",
   "execution_count": 162,
   "metadata": {},
   "outputs": [],
   "source": [
    "class MultiHeadAttention(tf.keras.layers.Layer):\n",
    "    def __init__(self, d_model, num_heads):\n",
    "        super(MultiHeadAttention, self).__init__()\n",
    "        self.num_heads = num_heads\n",
    "        self.d_model = d_model\n",
    "\n",
    "        assert d_model % self.num_heads == 0\n",
    "\n",
    "        self.depth = d_model // self.num_heads\n",
    "\n",
    "        self.wq = tf.keras.layers.Dense(d_model)\n",
    "        self.wk = tf.keras.layers.Dense(d_model)\n",
    "        self.wv = tf.keras.layers.Dense(d_model)\n",
    "\n",
    "        self.dense = tf.keras.layers.Dense(d_model)\n",
    "        \n",
    "    def split_heads(self, x, batch_size):\n",
    "        \"\"\"Split the last dimension into (num_heads, depth).\n",
    "        Transpose the result such that the shape is (batch_size, num_heads, seq_len, depth)\n",
    "        \"\"\"\n",
    "        print(\"x\")\n",
    "        print(x.shape)\n",
    "        x = tf.reshape(x, (batch_size, -1, self.num_heads, self.depth))\n",
    "        print(\"x reshaped\")\n",
    "        print(x.shape)\n",
    "        return tf.transpose(x, perm=[0, 2, 1, 3])\n",
    "    \n",
    "    def call(self, v, k, q, mask):\n",
    "        batch_size = tf.shape(q)[0]\n",
    "\n",
    "        q = self.wq(q)  # (batch_size, seq_len, d_model)\n",
    "        k = self.wk(k)  # (batch_size, seq_len, d_model)\n",
    "        v = self.wv(v)  # (batch_size, seq_len, d_model)\n",
    "        print(\"q\")\n",
    "        print(q.shape)\n",
    "        q = self.split_heads(q, batch_size)  # (batch_size, num_heads, seq_len_q, depth)\n",
    "        k = self.split_heads(k, batch_size)  # (batch_size, num_heads, seq_len_k, depth)\n",
    "        v = self.split_heads(v, batch_size)  # (batch_size, num_heads, seq_len_v, depth)\n",
    "        print(\"q split heads\")\n",
    "        print(q.shape)\n",
    "\n",
    "        # scaled_attention.shape == (batch_size, num_heads, seq_len_q, depth)\n",
    "        # attention_weights.shape == (batch_size, num_heads, seq_len_q, seq_len_k)\n",
    "        scaled_attention, attention_weights = scaled_dot_product_attention(\n",
    "            q, k, v, mask)\n",
    "\n",
    "        scaled_attention = tf.transpose(scaled_attention, perm=[0, 2, 1, 3])  # (batch_size, seq_len_q, num_heads, depth)\n",
    "\n",
    "        concat_attention = tf.reshape(scaled_attention, \n",
    "                                      (batch_size, -1, self.d_model))  # (batch_size, seq_len_q, d_model)\n",
    "\n",
    "        output = self.dense(concat_attention)  # (batch_size, seq_len_q, d_model)\n",
    "\n",
    "        return output, attention_weights"
   ]
  },
  {
   "cell_type": "code",
   "execution_count": 163,
   "metadata": {},
   "outputs": [
    {
     "name": "stdout",
     "output_type": "stream",
     "text": [
      "q\n",
      "(1, 60, 512)\n",
      "x\n",
      "(1, 60, 512)\n",
      "x reshaped\n",
      "(1, 60, 8, 64)\n",
      "x\n",
      "(1, 60, 512)\n",
      "x reshaped\n",
      "(1, 60, 8, 64)\n",
      "x\n",
      "(1, 60, 512)\n",
      "x reshaped\n",
      "(1, 60, 8, 64)\n",
      "q split heads\n",
      "(1, 8, 60, 64)\n",
      "matmul_qk\n",
      "(1, 8, 60, 60)\n"
     ]
    },
    {
     "data": {
      "text/plain": [
       "(TensorShape([1, 60, 512]), TensorShape([1, 8, 60, 60]))"
      ]
     },
     "execution_count": 163,
     "metadata": {},
     "output_type": "execute_result"
    }
   ],
   "source": [
    "temp_mha = MultiHeadAttention(d_model=512, num_heads=8)\n",
    "y = tf.random.uniform((1, 60, 512))  # (batch_size, encoder_sequence, d_model)\n",
    "out, attn = temp_mha(y, k=y, q=y, mask=None)\n",
    "out.shape, attn.shape"
   ]
  },
  {
   "cell_type": "code",
   "execution_count": 66,
   "metadata": {},
   "outputs": [],
   "source": [
    "def point_wise_feed_forward_network(d_model, dff):\n",
    "    return tf.keras.Sequential([\n",
    "      tf.keras.layers.Dense(dff, activation='relu'),  # (batch_size, seq_len, dff)\n",
    "      tf.keras.layers.Dense(d_model)  # (batch_size, seq_len, d_model)\n",
    "    ])"
   ]
  },
  {
   "cell_type": "code",
   "execution_count": 67,
   "metadata": {},
   "outputs": [
    {
     "data": {
      "text/plain": [
       "TensorShape([64, 50, 512])"
      ]
     },
     "execution_count": 67,
     "metadata": {},
     "output_type": "execute_result"
    }
   ],
   "source": [
    "sample_ffn = point_wise_feed_forward_network(512, 2048)\n",
    "sample_ffn(tf.random.uniform((64, 50, 512))).shape"
   ]
  },
  {
   "cell_type": "code",
   "execution_count": 68,
   "metadata": {},
   "outputs": [],
   "source": [
    "class EncoderLayer(tf.keras.layers.Layer):\n",
    "    def __init__(self, d_model, num_heads, dff, rate=0.1):\n",
    "        super(EncoderLayer, self).__init__()\n",
    "\n",
    "        self.mha = MultiHeadAttention(d_model, num_heads)\n",
    "        self.ffn = point_wise_feed_forward_network(d_model, dff)\n",
    "\n",
    "        self.layernorm1 = tf.keras.layers.LayerNormalization(epsilon=1e-6)\n",
    "        self.layernorm2 = tf.keras.layers.LayerNormalization(epsilon=1e-6)\n",
    "\n",
    "        self.dropout1 = tf.keras.layers.Dropout(rate)\n",
    "        self.dropout2 = tf.keras.layers.Dropout(rate)\n",
    "    \n",
    "    def call(self, x, training, mask):\n",
    "\n",
    "        attn_output, _ = self.mha(x, x, x, mask)  # (batch_size, input_seq_len, d_model)\n",
    "        attn_output = self.dropout1(attn_output, training=training)\n",
    "        out1 = self.layernorm1(x + attn_output)  # (batch_size, input_seq_len, d_model)\n",
    "\n",
    "        ffn_output = self.ffn(out1)  # (batch_size, input_seq_len, d_model)\n",
    "        ffn_output = self.dropout2(ffn_output, training=training)\n",
    "        out2 = self.layernorm2(out1 + ffn_output)  # (batch_size, input_seq_len, d_model)\n",
    "\n",
    "        return out2"
   ]
  },
  {
   "cell_type": "code",
   "execution_count": 69,
   "metadata": {},
   "outputs": [
    {
     "data": {
      "text/plain": [
       "TensorShape([64, 43, 512])"
      ]
     },
     "execution_count": 69,
     "metadata": {},
     "output_type": "execute_result"
    }
   ],
   "source": [
    "sample_encoder_layer = EncoderLayer(512, 8, 2048)\n",
    "\n",
    "sample_encoder_layer_output = sample_encoder_layer(\n",
    "    tf.random.uniform((64, 43, 512)), False, None)\n",
    "\n",
    "sample_encoder_layer_output.shape  # (batch_size, input_seq_len, d_model)"
   ]
  },
  {
   "cell_type": "code",
   "execution_count": 70,
   "metadata": {},
   "outputs": [],
   "source": [
    "class DecoderLayer(tf.keras.layers.Layer):\n",
    "    def __init__(self, d_model, num_heads, dff, rate=0.1):\n",
    "        super(DecoderLayer, self).__init__()\n",
    "\n",
    "        self.mha1 = MultiHeadAttention(d_model, num_heads)\n",
    "        self.mha2 = MultiHeadAttention(d_model, num_heads)\n",
    "\n",
    "        self.ffn = point_wise_feed_forward_network(d_model, dff)\n",
    "\n",
    "        self.layernorm1 = tf.keras.layers.LayerNormalization(epsilon=1e-6)\n",
    "        self.layernorm2 = tf.keras.layers.LayerNormalization(epsilon=1e-6)\n",
    "        self.layernorm3 = tf.keras.layers.LayerNormalization(epsilon=1e-6)\n",
    "\n",
    "        self.dropout1 = tf.keras.layers.Dropout(rate)\n",
    "        self.dropout2 = tf.keras.layers.Dropout(rate)\n",
    "        self.dropout3 = tf.keras.layers.Dropout(rate)\n",
    "    \n",
    "    \n",
    "    def call(self, x, enc_output, training, \n",
    "           look_ahead_mask, padding_mask):\n",
    "        # enc_output.shape == (batch_size, input_seq_len, d_model)\n",
    "\n",
    "        attn1, attn_weights_block1 = self.mha1(x, x, x, look_ahead_mask)  # (batch_size, target_seq_len, d_model)\n",
    "        attn1 = self.dropout1(attn1, training=training)\n",
    "        out1 = self.layernorm1(attn1 + x)\n",
    "\n",
    "        attn2, attn_weights_block2 = self.mha2(\n",
    "            enc_output, enc_output, out1, padding_mask)  # (batch_size, target_seq_len, d_model)\n",
    "        attn2 = self.dropout2(attn2, training=training)\n",
    "        out2 = self.layernorm2(attn2 + out1)  # (batch_size, target_seq_len, d_model)\n",
    "\n",
    "        ffn_output = self.ffn(out2)  # (batch_size, target_seq_len, d_model)\n",
    "        ffn_output = self.dropout3(ffn_output, training=training)\n",
    "        out3 = self.layernorm3(ffn_output + out2)  # (batch_size, target_seq_len, d_model)\n",
    "\n",
    "        return out3, attn_weights_block1, attn_weights_block2"
   ]
  },
  {
   "cell_type": "code",
   "execution_count": 71,
   "metadata": {},
   "outputs": [
    {
     "data": {
      "text/plain": [
       "TensorShape([64, 50, 512])"
      ]
     },
     "execution_count": 71,
     "metadata": {},
     "output_type": "execute_result"
    }
   ],
   "source": [
    "sample_decoder_layer = DecoderLayer(512, 8, 2048)\n",
    "\n",
    "sample_decoder_layer_output, _, _ = sample_decoder_layer(\n",
    "    tf.random.uniform((64, 50, 512)), sample_encoder_layer_output, \n",
    "    False, None, None)\n",
    "\n",
    "sample_decoder_layer_output.shape  # (batch_size, target_seq_len, d_model)"
   ]
  },
  {
   "cell_type": "code",
   "execution_count": 72,
   "metadata": {},
   "outputs": [],
   "source": [
    "class Encoder(tf.keras.layers.Layer):\n",
    "    def __init__(self, num_layers, d_model, num_heads, dff, input_vocab_size, \n",
    "               rate=0.1):\n",
    "        super(Encoder, self).__init__()\n",
    "\n",
    "        self.d_model = d_model\n",
    "        self.num_layers = num_layers\n",
    "\n",
    "        self.embedding = tf.keras.layers.Embedding(input_vocab_size, d_model)\n",
    "        self.pos_encoding = positional_encoding(input_vocab_size, self.d_model)\n",
    "\n",
    "\n",
    "        self.enc_layers = [EncoderLayer(d_model, num_heads, dff, rate) \n",
    "                           for _ in range(num_layers)]\n",
    "\n",
    "        self.dropout = tf.keras.layers.Dropout(rate)\n",
    "        \n",
    "    def call(self, x, training, mask):\n",
    "\n",
    "        seq_len = tf.shape(x)[1]\n",
    "\n",
    "        # adding embedding and position encoding.\n",
    "        x = self.embedding(x)  # (batch_size, input_seq_len, d_model)\n",
    "        x *= tf.math.sqrt(tf.cast(self.d_model, tf.float32))\n",
    "        x += self.pos_encoding[:, :seq_len, :]\n",
    "\n",
    "        x = self.dropout(x, training=training)\n",
    "\n",
    "        for i in range(self.num_layers):\n",
    "            x = self.enc_layers[i](x, training, mask)\n",
    "\n",
    "        return x  # (batch_size, input_seq_len, d_model)"
   ]
  },
  {
   "cell_type": "code",
   "execution_count": 73,
   "metadata": {},
   "outputs": [
    {
     "name": "stdout",
     "output_type": "stream",
     "text": [
      "(64, 62, 512)\n"
     ]
    }
   ],
   "source": [
    "sample_encoder = Encoder(num_layers=2, d_model=512, num_heads=8, \n",
    "                         dff=2048, input_vocab_size=8500)\n",
    "\n",
    "sample_encoder_output = sample_encoder(tf.random.uniform((64, 62)), \n",
    "                                       training=False, mask=None)\n",
    "\n",
    "print (sample_encoder_output.shape)  # (batch_size, input_seq_len, d_model)"
   ]
  },
  {
   "cell_type": "code",
   "execution_count": 74,
   "metadata": {},
   "outputs": [],
   "source": [
    "class Decoder(tf.keras.layers.Layer):\n",
    "    def __init__(self, num_layers, d_model, num_heads, dff, target_vocab_size, \n",
    "               rate=0.1):\n",
    "        super(Decoder, self).__init__()\n",
    "\n",
    "        self.d_model = d_model\n",
    "        self.num_layers = num_layers\n",
    "\n",
    "        self.embedding = tf.keras.layers.Embedding(target_vocab_size, d_model)\n",
    "        self.pos_encoding = positional_encoding(target_vocab_size, self.d_model)\n",
    "\n",
    "        self.dec_layers = [DecoderLayer(d_model, num_heads, dff, rate) \n",
    "                           for _ in range(num_layers)]\n",
    "        self.dropout = tf.keras.layers.Dropout(rate)\n",
    "    \n",
    "    def call(self, x, enc_output, training, \n",
    "           look_ahead_mask, padding_mask):\n",
    "\n",
    "        seq_len = tf.shape(x)[1]\n",
    "        attention_weights = {}\n",
    "\n",
    "        x = self.embedding(x)  # (batch_size, target_seq_len, d_model)\n",
    "        x *= tf.math.sqrt(tf.cast(self.d_model, tf.float32))\n",
    "        x += self.pos_encoding[:, :seq_len, :]\n",
    "\n",
    "        x = self.dropout(x, training=training)\n",
    "\n",
    "        for i in range(self.num_layers):\n",
    "            x, block1, block2 = self.dec_layers[i](x, enc_output, training,\n",
    "                                                 look_ahead_mask, padding_mask)\n",
    "\n",
    "            attention_weights['decoder_layer{}_block1'.format(i+1)] = block1\n",
    "            attention_weights['decoder_layer{}_block2'.format(i+1)] = block2\n",
    "\n",
    "        # x.shape == (batch_size, target_seq_len, d_model)\n",
    "        return x, attention_weights"
   ]
  },
  {
   "cell_type": "code",
   "execution_count": 75,
   "metadata": {},
   "outputs": [
    {
     "data": {
      "text/plain": [
       "(TensorShape([64, 26, 512]), TensorShape([64, 8, 26, 62]))"
      ]
     },
     "execution_count": 75,
     "metadata": {},
     "output_type": "execute_result"
    }
   ],
   "source": [
    "sample_decoder = Decoder(num_layers=2, d_model=512, num_heads=8, \n",
    "                         dff=2048, target_vocab_size=8000)\n",
    "\n",
    "output, attn = sample_decoder(tf.random.uniform((64, 26)), \n",
    "                              enc_output=sample_encoder_output, \n",
    "                              training=False, look_ahead_mask=None, \n",
    "                              padding_mask=None)\n",
    "\n",
    "output.shape, attn['decoder_layer2_block2'].shape"
   ]
  },
  {
   "cell_type": "code",
   "execution_count": 76,
   "metadata": {},
   "outputs": [],
   "source": [
    "class Transformer(tf.keras.Model):\n",
    "      def __init__(self, num_layers, d_model, num_heads, dff, input_vocab_size, \n",
    "                   target_vocab_size, rate=0.1):\n",
    "        super(Transformer, self).__init__()\n",
    "\n",
    "        self.encoder = Encoder(num_layers, d_model, num_heads, dff, \n",
    "                               input_vocab_size, rate)\n",
    "\n",
    "        self.decoder = Decoder(num_layers, d_model, num_heads, dff, \n",
    "                               target_vocab_size, rate)\n",
    "\n",
    "        self.final_layer = tf.keras.layers.Dense(target_vocab_size)\n",
    "    \n",
    "      def call(self, inp, tar, training, enc_padding_mask, \n",
    "               look_ahead_mask, dec_padding_mask):\n",
    "\n",
    "        enc_output = self.encoder(inp, training, enc_padding_mask)  # (batch_size, inp_seq_len, d_model)\n",
    "\n",
    "        # dec_output.shape == (batch_size, tar_seq_len, d_model)\n",
    "        dec_output, attention_weights = self.decoder(tar, enc_output, training, look_ahead_mask, dec_padding_mask)\n",
    "\n",
    "        final_output = self.final_layer(dec_output)  # (batch_size, tar_seq_len, target_vocab_size)\n",
    "\n",
    "        return final_output, attention_weights"
   ]
  },
  {
   "cell_type": "code",
   "execution_count": 77,
   "metadata": {},
   "outputs": [
    {
     "data": {
      "text/plain": [
       "TensorShape([64, 26, 8000])"
      ]
     },
     "execution_count": 77,
     "metadata": {},
     "output_type": "execute_result"
    }
   ],
   "source": [
    "sample_transformer = Transformer(\n",
    "    num_layers=2, d_model=512, num_heads=8, dff=2048, \n",
    "    input_vocab_size=8500, target_vocab_size=8000)\n",
    "\n",
    "temp_input = tf.random.uniform((64, 62))\n",
    "temp_target = tf.random.uniform((64, 26))\n",
    "\n",
    "fn_out, _ = sample_transformer(temp_input, temp_target, training=False, \n",
    "                               enc_padding_mask=None, \n",
    "                               look_ahead_mask=None,\n",
    "                               dec_padding_mask=None)\n",
    "\n",
    "fn_out.shape  # (batch_size, tar_seq_len, target_vocab_size)"
   ]
  },
  {
   "cell_type": "code",
   "execution_count": 78,
   "metadata": {},
   "outputs": [],
   "source": [
    "num_layers = 4\n",
    "d_model = 128\n",
    "dff = 512\n",
    "num_heads = 8\n",
    "\n",
    "input_vocab_size = tokenizer_pt.vocab_size + 2\n",
    "target_vocab_size = tokenizer_en.vocab_size + 2\n",
    "dropout_rate = 0.1"
   ]
  },
  {
   "cell_type": "code",
   "execution_count": 79,
   "metadata": {},
   "outputs": [],
   "source": [
    "class CustomSchedule(tf.keras.optimizers.schedules.LearningRateSchedule):\n",
    "    def __init__(self, d_model, warmup_steps=4000):\n",
    "        super(CustomSchedule, self).__init__()\n",
    "\n",
    "        self.d_model = d_model\n",
    "        self.d_model = tf.cast(self.d_model, tf.float32)\n",
    "\n",
    "        self.warmup_steps = warmup_steps\n",
    "\n",
    "    def __call__(self, step):\n",
    "        arg1 = tf.math.rsqrt(step)\n",
    "        arg2 = step * (self.warmup_steps ** -1.5)\n",
    "\n",
    "        return tf.math.rsqrt(self.d_model) * tf.math.minimum(arg1, arg2)"
   ]
  },
  {
   "cell_type": "code",
   "execution_count": 80,
   "metadata": {},
   "outputs": [],
   "source": [
    "learning_rate = CustomSchedule(d_model)\n",
    "\n",
    "optimizer = tf.keras.optimizers.Adam(learning_rate, beta_1=0.9, beta_2=0.98, \n",
    "                                     epsilon=1e-9)"
   ]
  },
  {
   "cell_type": "code",
   "execution_count": 81,
   "metadata": {},
   "outputs": [
    {
     "data": {
      "text/plain": [
       "Text(0.5, 0, 'Train Step')"
      ]
     },
     "execution_count": 81,
     "metadata": {},
     "output_type": "execute_result"
    },
    {
     "data": {
      "image/png": "[encoded data removed]",
      "text/plain": [
       "<Figure size 432x288 with 1 Axes>"
      ]
     },
     "metadata": {
      "needs_background": "light"
     },
     "output_type": "display_data"
    }
   ],
   "source": [
    "temp_learning_rate_schedule = CustomSchedule(d_model)\n",
    "\n",
    "plt.plot(temp_learning_rate_schedule(tf.range(40000, dtype=tf.float32)))\n",
    "plt.ylabel(\"Learning Rate\")\n",
    "plt.xlabel(\"Train Step\")"
   ]
  },
  {
   "cell_type": "code",
   "execution_count": 82,
   "metadata": {},
   "outputs": [],
   "source": [
    "loss_object = tf.keras.losses.SparseCategoricalCrossentropy(\n",
    "    from_logits=True, reduction='none')"
   ]
  },
  {
   "cell_type": "code",
   "execution_count": 83,
   "metadata": {},
   "outputs": [],
   "source": [
    "def loss_function(real, pred):\n",
    "    mask = tf.math.logical_not(tf.math.equal(real, 0))\n",
    "    loss_ = loss_object(real, pred)\n",
    "\n",
    "    mask = tf.cast(mask, dtype=loss_.dtype)\n",
    "    loss_ *= mask\n",
    "\n",
    "    return tf.reduce_mean(loss_)"
   ]
  },
  {
   "cell_type": "code",
   "execution_count": 84,
   "metadata": {},
   "outputs": [],
   "source": [
    "train_loss = tf.keras.metrics.Mean(name='train_loss')\n",
    "train_accuracy = tf.keras.metrics.SparseCategoricalAccuracy(\n",
    "    name='train_accuracy')"
   ]
  },
  {
   "cell_type": "code",
   "execution_count": 85,
   "metadata": {},
   "outputs": [],
   "source": [
    "transformer = Transformer(num_layers, d_model, num_heads, dff,\n",
    "                          input_vocab_size, target_vocab_size, dropout_rate)"
   ]
  },
  {
   "cell_type": "code",
   "execution_count": 104,
   "metadata": {},
   "outputs": [],
   "source": [
    "def create_masks(inp, tar):\n",
    "    # Encoder padding mask\n",
    "    enc_padding_mask = create_padding_mask(inp)\n",
    "\n",
    "    # Used in the 2nd attention block in the decoder.\n",
    "    # This padding mask is used to mask the encoder outputs.\n",
    "    dec_padding_mask = create_padding_mask(inp)\n",
    "\n",
    "    # Used in the 1st attention block in the decoder.\n",
    "    # It is used to pad and mask future tokens in the input received by \n",
    "    # the decoder.\n",
    "    look_ahead_mask = create_look_ahead_mask(tf.shape(tar)[1])\n",
    "    dec_target_padding_mask = create_padding_mask(tar)\n",
    "    combined_mask = tf.maximum(dec_target_padding_mask, look_ahead_mask)\n",
    "\n",
    "    return enc_padding_mask, combined_mask, dec_padding_mask"
   ]
  },
  {
   "cell_type": "code",
   "execution_count": 105,
   "metadata": {},
   "outputs": [
    {
     "name": "stdout",
     "output_type": "stream",
     "text": [
      "(64, 1, 1, 40)\n",
      "(64, 1, 40, 40)\n",
      "(64, 1, 1, 40)\n",
      "tf.Tensor(\n",
      "[[0. 1. 1. ... 1. 1. 1.]\n",
      " [0. 0. 1. ... 1. 1. 1.]\n",
      " [0. 0. 0. ... 1. 1. 1.]\n",
      " ...\n",
      " [0. 0. 0. ... 1. 1. 1.]\n",
      " [0. 0. 0. ... 1. 1. 1.]\n",
      " [0. 0. 0. ... 1. 1. 1.]], shape=(40, 40), dtype=float32)\n"
     ]
    }
   ],
   "source": [
    "enc_padding_mask, combined_mask, dec_padding_mask =  create_masks(pt_batch, en_batch)\n",
    "print(enc_padding_mask.shape)\n",
    "print(combined_mask.shape)\n",
    "print(dec_padding_mask.shape)\n",
    "\n",
    "print(combined_mask[0][0])"
   ]
  },
  {
   "cell_type": "code",
   "execution_count": 61,
   "metadata": {},
   "outputs": [],
   "source": [
    "checkpoint_path = \"./checkpoints/train\"\n",
    "\n",
    "ckpt = tf.train.Checkpoint(transformer=transformer,\n",
    "                           optimizer=optimizer)\n",
    "\n",
    "ckpt_manager = tf.train.CheckpointManager(ckpt, checkpoint_path, max_to_keep=5)\n",
    "\n",
    "# if a checkpoint exists, restore the latest checkpoint.\n",
    "if ckpt_manager.latest_checkpoint:\n",
    "    ckpt.restore(ckpt_manager.latest_checkpoint)\n",
    "    print ('Latest checkpoint restored!!')"
   ]
  },
  {
   "cell_type": "code",
   "execution_count": 62,
   "metadata": {},
   "outputs": [],
   "source": [
    "EPOCHS = 20"
   ]
  },
  {
   "cell_type": "code",
   "execution_count": 63,
   "metadata": {},
   "outputs": [],
   "source": [
    "# The @tf.function trace-compiles train_step into a TF graph for faster\n",
    "# execution. The function specializes to the precise shape of the argument\n",
    "# tensors. To avoid re-tracing due to the variable sequence lengths or variable\n",
    "# batch sizes (the last batch is smaller), use input_signature to specify\n",
    "# more generic shapes.\n",
    "\n",
    "train_step_signature = [\n",
    "    tf.TensorSpec(shape=(None, None), dtype=tf.int64),\n",
    "    tf.TensorSpec(shape=(None, None), dtype=tf.int64),\n",
    "]\n",
    "\n",
    "@tf.function(input_signature=train_step_signature)\n",
    "def train_step(inp, tar):\n",
    "    tar_inp = tar[:, :-1]\n",
    "    tar_real = tar[:, 1:]\n",
    "\n",
    "    enc_padding_mask, combined_mask, dec_padding_mask = create_masks(inp, tar_inp)\n",
    "\n",
    "    with tf.GradientTape() as tape:\n",
    "        predictions, _ = transformer(inp, tar_inp, \n",
    "                                     True, \n",
    "                                     enc_padding_mask, \n",
    "                                     combined_mask, \n",
    "                                     dec_padding_mask)\n",
    "        loss = loss_function(tar_real, predictions)\n",
    "\n",
    "    gradients = tape.gradient(loss, transformer.trainable_variables)    \n",
    "    optimizer.apply_gradients(zip(gradients, transformer.trainable_variables))\n",
    "\n",
    "    train_loss(loss)\n",
    "    train_accuracy(tar_real, predictions)"
   ]
  },
  {
   "cell_type": "code",
   "execution_count": 64,
   "metadata": {
    "scrolled": false
   },
   "outputs": [
    {
     "name": "stdout",
     "output_type": "stream",
     "text": [
      "Epoch 1 Batch 0 Loss 3.9752 Accuracy 0.0000\n",
      "Epoch 1 Batch 50 Loss 4.1963 Accuracy 0.0079\n",
      "Epoch 1 Batch 100 Loss 4.1757 Accuracy 0.0174\n",
      "Epoch 1 Batch 150 Loss 4.1197 Accuracy 0.0206\n",
      "Epoch 1 Batch 200 Loss 4.0702 Accuracy 0.0223\n",
      "Epoch 1 Batch 250 Loss 3.9858 Accuracy 0.0240\n",
      "Epoch 1 Batch 300 Loss 3.9075 Accuracy 0.0265\n",
      "Epoch 1 Batch 350 Loss 3.8207 Accuracy 0.0292\n",
      "Epoch 1 Batch 400 Loss 3.7369 Accuracy 0.0327\n",
      "Epoch 1 Batch 450 Loss 3.6578 Accuracy 0.0357\n",
      "Epoch 1 Batch 500 Loss 3.5909 Accuracy 0.0388\n",
      "Epoch 1 Batch 550 Loss 3.5270 Accuracy 0.0422\n",
      "Epoch 1 Batch 600 Loss 3.4659 Accuracy 0.0459\n",
      "Epoch 1 Batch 650 Loss 3.4088 Accuracy 0.0493\n",
      "Epoch 1 Batch 700 Loss 3.3556 Accuracy 0.0525\n",
      "Epoch 1 Loss 3.3530 Accuracy 0.0526\n",
      "Time taken for 1 epoch: 393.1741511821747 secs\n",
      "\n",
      "Epoch 2 Batch 0 Loss 2.4464 Accuracy 0.0907\n",
      "Epoch 2 Batch 50 Loss 2.5759 Accuracy 0.1007\n",
      "Epoch 2 Batch 100 Loss 2.5694 Accuracy 0.1038\n",
      "Epoch 2 Batch 150 Loss 2.5438 Accuracy 0.1054\n",
      "Epoch 2 Batch 200 Loss 2.5300 Accuracy 0.1076\n",
      "Epoch 2 Batch 250 Loss 2.5014 Accuracy 0.1093\n",
      "Epoch 2 Batch 300 Loss 2.4860 Accuracy 0.1112\n",
      "Epoch 2 Batch 350 Loss 2.4700 Accuracy 0.1128\n",
      "Epoch 2 Batch 400 Loss 2.4547 Accuracy 0.1145\n",
      "Epoch 2 Batch 450 Loss 2.4382 Accuracy 0.1158\n",
      "Epoch 2 Batch 500 Loss 2.4256 Accuracy 0.1173\n",
      "Epoch 2 Batch 550 Loss 2.4108 Accuracy 0.1188\n",
      "Epoch 2 Batch 600 Loss 2.3968 Accuracy 0.1202\n",
      "Epoch 2 Batch 650 Loss 2.3841 Accuracy 0.1216\n",
      "Epoch 2 Batch 700 Loss 2.3722 Accuracy 0.1229\n",
      "Epoch 2 Loss 2.3712 Accuracy 0.1230\n",
      "Time taken for 1 epoch: 55.80641841888428 secs\n",
      "\n",
      "Epoch 3 Batch 0 Loss 2.0456 Accuracy 0.1389\n",
      "Epoch 3 Batch 50 Loss 2.1822 Accuracy 0.1401\n",
      "Epoch 3 Batch 100 Loss 2.1887 Accuracy 0.1418\n",
      "Epoch 3 Batch 150 Loss 2.1787 Accuracy 0.1421\n",
      "Epoch 3 Batch 200 Loss 2.1794 Accuracy 0.1429\n",
      "Epoch 3 Batch 250 Loss 2.1649 Accuracy 0.1434\n",
      "Epoch 3 Batch 300 Loss 2.1618 Accuracy 0.1442\n",
      "Epoch 3 Batch 350 Loss 2.1565 Accuracy 0.1446\n",
      "Epoch 3 Batch 400 Loss 2.1511 Accuracy 0.1454\n",
      "Epoch 3 Batch 450 Loss 2.1439 Accuracy 0.1457\n",
      "Epoch 3 Batch 500 Loss 2.1397 Accuracy 0.1463\n",
      "Epoch 3 Batch 550 Loss 2.1320 Accuracy 0.1471\n",
      "Epoch 3 Batch 600 Loss 2.1250 Accuracy 0.1476\n",
      "Epoch 3 Batch 650 Loss 2.1180 Accuracy 0.1484\n",
      "Epoch 3 Batch 700 Loss 2.1112 Accuracy 0.1491\n",
      "Epoch 3 Loss 2.1104 Accuracy 0.1492\n",
      "Time taken for 1 epoch: 55.649064779281616 secs\n",
      "\n",
      "Epoch 4 Batch 0 Loss 1.8435 Accuracy 0.1532\n",
      "Epoch 4 Batch 50 Loss 1.9846 Accuracy 0.1593\n",
      "Epoch 4 Batch 100 Loss 1.9916 Accuracy 0.1614\n",
      "Epoch 4 Batch 150 Loss 1.9821 Accuracy 0.1618\n",
      "Epoch 4 Batch 200 Loss 1.9817 Accuracy 0.1629\n",
      "Epoch 4 Batch 250 Loss 1.9678 Accuracy 0.1635\n",
      "Epoch 4 Batch 300 Loss 1.9631 Accuracy 0.1645\n",
      "Epoch 4 Batch 350 Loss 1.9562 Accuracy 0.1656\n",
      "Epoch 4 Batch 400 Loss 1.9486 Accuracy 0.1668\n",
      "Epoch 4 Batch 450 Loss 1.9389 Accuracy 0.1677\n",
      "Epoch 4 Batch 500 Loss 1.9320 Accuracy 0.1688\n",
      "Epoch 4 Batch 550 Loss 1.9225 Accuracy 0.1701\n",
      "Epoch 4 Batch 600 Loss 1.9132 Accuracy 0.1711\n",
      "Epoch 4 Batch 650 Loss 1.9042 Accuracy 0.1723\n",
      "Epoch 4 Batch 700 Loss 1.8955 Accuracy 0.1734\n",
      "Epoch 4 Loss 1.8946 Accuracy 0.1735\n",
      "Time taken for 1 epoch: 57.085437059402466 secs\n",
      "\n",
      "Epoch 5 Batch 0 Loss 1.6214 Accuracy 0.1836\n",
      "Epoch 5 Batch 50 Loss 1.7493 Accuracy 0.1893\n",
      "Epoch 5 Batch 100 Loss 1.7531 Accuracy 0.1922\n",
      "Epoch 5 Batch 150 Loss 1.7442 Accuracy 0.1920\n",
      "Epoch 5 Batch 200 Loss 1.7431 Accuracy 0.1932\n",
      "Epoch 5 Batch 250 Loss 1.7300 Accuracy 0.1938\n",
      "Epoch 5 Batch 300 Loss 1.7262 Accuracy 0.1946\n",
      "Epoch 5 Batch 350 Loss 1.7198 Accuracy 0.1955\n",
      "Epoch 5 Batch 400 Loss 1.7138 Accuracy 0.1965\n",
      "Epoch 5 Batch 450 Loss 1.7055 Accuracy 0.1972\n",
      "Epoch 5 Batch 500 Loss 1.7001 Accuracy 0.1980\n",
      "Epoch 5 Batch 550 Loss 1.6918 Accuracy 0.1990\n",
      "Epoch 5 Batch 600 Loss 1.6842 Accuracy 0.1998\n",
      "Epoch 5 Batch 650 Loss 1.6771 Accuracy 0.2006\n",
      "Epoch 5 Batch 700 Loss 1.6697 Accuracy 0.2015\n",
      "Saving checkpoint for epoch 5 at ./checkpoints/train\\ckpt-1\n",
      "Epoch 5 Loss 1.6688 Accuracy 0.2015\n",
      "Time taken for 1 epoch: 57.10550403594971 secs\n",
      "\n",
      "Epoch 6 Batch 0 Loss 1.4705 Accuracy 0.1992\n",
      "Epoch 6 Batch 50 Loss 1.5457 Accuracy 0.2137\n",
      "Epoch 6 Batch 100 Loss 1.5511 Accuracy 0.2151\n",
      "Epoch 6 Batch 150 Loss 1.5433 Accuracy 0.2150\n",
      "Epoch 6 Batch 200 Loss 1.5424 Accuracy 0.2160\n",
      "Epoch 6 Batch 250 Loss 1.5314 Accuracy 0.2164\n",
      "Epoch 6 Batch 300 Loss 1.5277 Accuracy 0.2172\n",
      "Epoch 6 Batch 350 Loss 1.5229 Accuracy 0.2179\n",
      "Epoch 6 Batch 400 Loss 1.5187 Accuracy 0.2185\n",
      "Epoch 6 Batch 450 Loss 1.5126 Accuracy 0.2189\n",
      "Epoch 6 Batch 500 Loss 1.5081 Accuracy 0.2195\n",
      "Epoch 6 Batch 550 Loss 1.5021 Accuracy 0.2202\n",
      "Epoch 6 Batch 600 Loss 1.4952 Accuracy 0.2208\n",
      "Epoch 6 Batch 650 Loss 1.4892 Accuracy 0.2215\n",
      "Epoch 6 Batch 700 Loss 1.4822 Accuracy 0.2224\n",
      "Epoch 6 Loss 1.4813 Accuracy 0.2224\n",
      "Time taken for 1 epoch: 56.38028573989868 secs\n",
      "\n",
      "Epoch 7 Batch 0 Loss 1.2788 Accuracy 0.2240\n",
      "Epoch 7 Batch 50 Loss 1.3781 Accuracy 0.2311\n",
      "Epoch 7 Batch 100 Loss 1.3757 Accuracy 0.2342\n",
      "Epoch 7 Batch 150 Loss 1.3647 Accuracy 0.2345\n",
      "Epoch 7 Batch 200 Loss 1.3642 Accuracy 0.2358\n",
      "Epoch 7 Batch 250 Loss 1.3532 Accuracy 0.2362\n",
      "Epoch 7 Batch 300 Loss 1.3489 Accuracy 0.2372\n",
      "Epoch 7 Batch 350 Loss 1.3426 Accuracy 0.2382\n",
      "Epoch 7 Batch 400 Loss 1.3372 Accuracy 0.2391\n",
      "Epoch 7 Batch 450 Loss 1.3305 Accuracy 0.2396\n",
      "Epoch 7 Batch 500 Loss 1.3258 Accuracy 0.2403\n",
      "Epoch 7 Batch 550 Loss 1.3189 Accuracy 0.2412\n",
      "Epoch 7 Batch 600 Loss 1.3119 Accuracy 0.2419\n",
      "Epoch 7 Batch 650 Loss 1.3051 Accuracy 0.2426\n",
      "Epoch 7 Batch 700 Loss 1.2983 Accuracy 0.2435\n",
      "Epoch 7 Loss 1.2975 Accuracy 0.2435\n",
      "Time taken for 1 epoch: 56.451882123947144 secs\n",
      "\n",
      "Epoch 8 Batch 0 Loss 1.1338 Accuracy 0.2435\n",
      "Epoch 8 Batch 50 Loss 1.1997 Accuracy 0.2520\n",
      "Epoch 8 Batch 100 Loss 1.1952 Accuracy 0.2559\n",
      "Epoch 8 Batch 150 Loss 1.1871 Accuracy 0.2566\n",
      "Epoch 8 Batch 200 Loss 1.1881 Accuracy 0.2574\n",
      "Epoch 8 Batch 250 Loss 1.1796 Accuracy 0.2573\n",
      "Epoch 8 Batch 300 Loss 1.1764 Accuracy 0.2584\n",
      "Epoch 8 Batch 350 Loss 1.1716 Accuracy 0.2590\n",
      "Epoch 8 Batch 400 Loss 1.1678 Accuracy 0.2597\n",
      "Epoch 8 Batch 450 Loss 1.1636 Accuracy 0.2599\n",
      "Epoch 8 Batch 500 Loss 1.1604 Accuracy 0.2604\n",
      "Epoch 8 Batch 550 Loss 1.1551 Accuracy 0.2612\n",
      "Epoch 8 Batch 600 Loss 1.1504 Accuracy 0.2616\n",
      "Epoch 8 Batch 650 Loss 1.1455 Accuracy 0.2622\n",
      "Epoch 8 Batch 700 Loss 1.1402 Accuracy 0.2630\n",
      "Epoch 8 Loss 1.1394 Accuracy 0.2630\n",
      "Time taken for 1 epoch: 56.271193504333496 secs\n",
      "\n",
      "Epoch 9 Batch 0 Loss 1.0285 Accuracy 0.2561\n",
      "Epoch 9 Batch 50 Loss 1.0720 Accuracy 0.2686\n",
      "Epoch 9 Batch 100 Loss 1.0661 Accuracy 0.2718\n",
      "Epoch 9 Batch 150 Loss 1.0580 Accuracy 0.2724\n",
      "Epoch 9 Batch 200 Loss 1.0604 Accuracy 0.2732\n",
      "Epoch 9 Batch 250 Loss 1.0552 Accuracy 0.2730\n",
      "Epoch 9 Batch 300 Loss 1.0533 Accuracy 0.2738\n",
      "Epoch 9 Batch 350 Loss 1.0509 Accuracy 0.2741\n",
      "Epoch 9 Batch 400 Loss 1.0480 Accuracy 0.2746\n",
      "Epoch 9 Batch 450 Loss 1.0443 Accuracy 0.2748\n",
      "Epoch 9 Batch 500 Loss 1.0419 Accuracy 0.2753\n",
      "Epoch 9 Batch 550 Loss 1.0381 Accuracy 0.2759\n",
      "Epoch 9 Batch 600 Loss 1.0351 Accuracy 0.2761\n",
      "Epoch 9 Batch 650 Loss 1.0315 Accuracy 0.2765\n",
      "Epoch 9 Batch 700 Loss 1.0273 Accuracy 0.2772\n",
      "Epoch 9 Loss 1.0266 Accuracy 0.2772\n",
      "Time taken for 1 epoch: 56.32578897476196 secs\n",
      "\n",
      "Epoch 10 Batch 0 Loss 0.9167 Accuracy 0.2708\n",
      "Epoch 10 Batch 50 Loss 0.9692 Accuracy 0.2821\n",
      "Epoch 10 Batch 100 Loss 0.9702 Accuracy 0.2841\n",
      "Epoch 10 Batch 150 Loss 0.9625 Accuracy 0.2843\n",
      "Epoch 10 Batch 200 Loss 0.9647 Accuracy 0.2853\n",
      "Epoch 10 Batch 250 Loss 0.9602 Accuracy 0.2850\n",
      "Epoch 10 Batch 300 Loss 0.9613 Accuracy 0.2853\n",
      "Epoch 10 Batch 350 Loss 0.9588 Accuracy 0.2856\n",
      "Epoch 10 Batch 400 Loss 0.9566 Accuracy 0.2863\n",
      "Epoch 10 Batch 450 Loss 0.9535 Accuracy 0.2863\n",
      "Epoch 10 Batch 500 Loss 0.9525 Accuracy 0.2866\n",
      "Epoch 10 Batch 550 Loss 0.9493 Accuracy 0.2872\n",
      "Epoch 10 Batch 600 Loss 0.9468 Accuracy 0.2873\n",
      "Epoch 10 Batch 650 Loss 0.9441 Accuracy 0.2876\n",
      "Epoch 10 Batch 700 Loss 0.9404 Accuracy 0.2882\n",
      "Saving checkpoint for epoch 10 at ./checkpoints/train\\ckpt-2\n",
      "Epoch 10 Loss 0.9398 Accuracy 0.2882\n",
      "Time taken for 1 epoch: 56.450716733932495 secs\n",
      "\n",
      "Epoch 11 Batch 0 Loss 0.8548 Accuracy 0.2786\n",
      "Epoch 11 Batch 50 Loss 0.8937 Accuracy 0.2909\n",
      "Epoch 11 Batch 100 Loss 0.8911 Accuracy 0.2944\n",
      "Epoch 11 Batch 150 Loss 0.8868 Accuracy 0.2944\n",
      "Epoch 11 Batch 200 Loss 0.8903 Accuracy 0.2947\n",
      "Epoch 11 Batch 250 Loss 0.8862 Accuracy 0.2942\n",
      "Epoch 11 Batch 300 Loss 0.8866 Accuracy 0.2948\n",
      "Epoch 11 Batch 350 Loss 0.8854 Accuracy 0.2950\n",
      "Epoch 11 Batch 400 Loss 0.8845 Accuracy 0.2953\n",
      "Epoch 11 Batch 450 Loss 0.8823 Accuracy 0.2954\n",
      "Epoch 11 Batch 500 Loss 0.8821 Accuracy 0.2957\n",
      "Epoch 11 Batch 550 Loss 0.8792 Accuracy 0.2962\n",
      "Epoch 11 Batch 600 Loss 0.8769 Accuracy 0.2964\n",
      "Epoch 11 Batch 650 Loss 0.8745 Accuracy 0.2967\n",
      "Epoch 11 Batch 700 Loss 0.8711 Accuracy 0.2972\n",
      "Epoch 11 Loss 0.8706 Accuracy 0.2973\n",
      "Time taken for 1 epoch: 56.949020862579346 secs\n",
      "\n",
      "Epoch 12 Batch 0 Loss 0.7974 Accuracy 0.2821\n",
      "Epoch 12 Batch 50 Loss 0.8358 Accuracy 0.2985\n",
      "Epoch 12 Batch 100 Loss 0.8340 Accuracy 0.3017\n",
      "Epoch 12 Batch 150 Loss 0.8303 Accuracy 0.3019\n",
      "Epoch 12 Batch 200 Loss 0.8357 Accuracy 0.3021\n",
      "Epoch 12 Batch 250 Loss 0.8311 Accuracy 0.3017\n",
      "Epoch 12 Batch 300 Loss 0.8321 Accuracy 0.3021\n",
      "Epoch 12 Batch 350 Loss 0.8303 Accuracy 0.3024\n",
      "Epoch 12 Batch 400 Loss 0.8286 Accuracy 0.3028\n",
      "Epoch 12 Batch 450 Loss 0.8264 Accuracy 0.3028\n",
      "Epoch 12 Batch 500 Loss 0.8260 Accuracy 0.3031\n",
      "Epoch 12 Batch 550 Loss 0.8234 Accuracy 0.3036\n",
      "Epoch 12 Batch 600 Loss 0.8217 Accuracy 0.3038\n",
      "Epoch 12 Batch 650 Loss 0.8197 Accuracy 0.3041\n",
      "Epoch 12 Batch 700 Loss 0.8169 Accuracy 0.3046\n",
      "Epoch 12 Loss 0.8163 Accuracy 0.3046\n",
      "Time taken for 1 epoch: 58.39704632759094 secs\n",
      "\n",
      "Epoch 13 Batch 0 Loss 0.7758 Accuracy 0.2821\n",
      "Epoch 13 Batch 50 Loss 0.7878 Accuracy 0.3044\n",
      "Epoch 13 Batch 100 Loss 0.7861 Accuracy 0.3082\n",
      "Epoch 13 Batch 150 Loss 0.7817 Accuracy 0.3084\n",
      "Epoch 13 Batch 200 Loss 0.7867 Accuracy 0.3088\n",
      "Epoch 13 Batch 250 Loss 0.7822 Accuracy 0.3083\n",
      "Epoch 13 Batch 300 Loss 0.7826 Accuracy 0.3090\n",
      "Epoch 13 Batch 350 Loss 0.7805 Accuracy 0.3093\n",
      "Epoch 13 Batch 400 Loss 0.7793 Accuracy 0.3097\n",
      "Epoch 13 Batch 450 Loss 0.7778 Accuracy 0.3096\n",
      "Epoch 13 Batch 500 Loss 0.7779 Accuracy 0.3099\n",
      "Epoch 13 Batch 550 Loss 0.7764 Accuracy 0.3102\n",
      "Epoch 13 Batch 600 Loss 0.7749 Accuracy 0.3103\n",
      "Epoch 13 Batch 650 Loss 0.7733 Accuracy 0.3104\n",
      "Epoch 13 Batch 700 Loss 0.7707 Accuracy 0.3109\n",
      "Epoch 13 Loss 0.7702 Accuracy 0.3109\n",
      "Time taken for 1 epoch: 57.49844813346863 secs\n",
      "\n",
      "Epoch 14 Batch 0 Loss 0.7148 Accuracy 0.2977\n",
      "Epoch 14 Batch 50 Loss 0.7426 Accuracy 0.3115\n",
      "Epoch 14 Batch 100 Loss 0.7381 Accuracy 0.3152\n",
      "Epoch 14 Batch 150 Loss 0.7362 Accuracy 0.3148\n",
      "Epoch 14 Batch 200 Loss 0.7408 Accuracy 0.3153\n",
      "Epoch 14 Batch 250 Loss 0.7366 Accuracy 0.3147\n",
      "Epoch 14 Batch 300 Loss 0.7372 Accuracy 0.3154\n",
      "Epoch 14 Batch 350 Loss 0.7357 Accuracy 0.3156\n",
      "Epoch 14 Batch 400 Loss 0.7351 Accuracy 0.3160\n",
      "Epoch 14 Batch 450 Loss 0.7341 Accuracy 0.3158\n",
      "Epoch 14 Batch 500 Loss 0.7343 Accuracy 0.3159\n",
      "Epoch 14 Batch 550 Loss 0.7334 Accuracy 0.3161\n",
      "Epoch 14 Batch 600 Loss 0.7325 Accuracy 0.3160\n",
      "Epoch 14 Batch 650 Loss 0.7307 Accuracy 0.3163\n",
      "Epoch 14 Batch 700 Loss 0.7284 Accuracy 0.3167\n",
      "Epoch 14 Loss 0.7279 Accuracy 0.3168\n",
      "Time taken for 1 epoch: 57.664265155792236 secs\n",
      "\n",
      "Epoch 15 Batch 0 Loss 0.6761 Accuracy 0.2956\n",
      "Epoch 15 Batch 50 Loss 0.7044 Accuracy 0.3165\n",
      "Epoch 15 Batch 100 Loss 0.7043 Accuracy 0.3196\n",
      "Epoch 15 Batch 150 Loss 0.7014 Accuracy 0.3194\n",
      "Epoch 15 Batch 200 Loss 0.7048 Accuracy 0.3202\n",
      "Epoch 15 Batch 250 Loss 0.7019 Accuracy 0.3196\n",
      "Epoch 15 Batch 300 Loss 0.7029 Accuracy 0.3200\n",
      "Epoch 15 Batch 350 Loss 0.7006 Accuracy 0.3205\n",
      "Epoch 15 Batch 400 Loss 0.7004 Accuracy 0.3208\n",
      "Epoch 15 Batch 450 Loss 0.6990 Accuracy 0.3208\n",
      "Epoch 15 Batch 500 Loss 0.6993 Accuracy 0.3210\n",
      "Epoch 15 Batch 550 Loss 0.6987 Accuracy 0.3213\n",
      "Epoch 15 Batch 600 Loss 0.6978 Accuracy 0.3212\n",
      "Epoch 15 Batch 650 Loss 0.6963 Accuracy 0.3214\n",
      "Epoch 15 Batch 700 Loss 0.6942 Accuracy 0.3219\n",
      "Saving checkpoint for epoch 15 at ./checkpoints/train\\ckpt-3\n",
      "Epoch 15 Loss 0.6937 Accuracy 0.3219\n",
      "Time taken for 1 epoch: 57.679473876953125 secs\n",
      "\n",
      "Epoch 16 Batch 0 Loss 0.6541 Accuracy 0.2947\n",
      "Epoch 16 Batch 50 Loss 0.6733 Accuracy 0.3211\n",
      "Epoch 16 Batch 100 Loss 0.6745 Accuracy 0.3239\n",
      "Epoch 16 Batch 150 Loss 0.6716 Accuracy 0.3238\n",
      "Epoch 16 Batch 200 Loss 0.6728 Accuracy 0.3250\n",
      "Epoch 16 Batch 250 Loss 0.6695 Accuracy 0.3245\n",
      "Epoch 16 Batch 300 Loss 0.6698 Accuracy 0.3250\n",
      "Epoch 16 Batch 350 Loss 0.6680 Accuracy 0.3253\n",
      "Epoch 16 Batch 400 Loss 0.6676 Accuracy 0.3257\n",
      "Epoch 16 Batch 450 Loss 0.6665 Accuracy 0.3256\n",
      "Epoch 16 Batch 500 Loss 0.6671 Accuracy 0.3258\n",
      "Epoch 16 Batch 550 Loss 0.6658 Accuracy 0.3262\n",
      "Epoch 16 Batch 600 Loss 0.6653 Accuracy 0.3260\n",
      "Epoch 16 Batch 650 Loss 0.6638 Accuracy 0.3262\n",
      "Epoch 16 Batch 700 Loss 0.6618 Accuracy 0.3266\n",
      "Epoch 16 Loss 0.6612 Accuracy 0.3267\n",
      "Time taken for 1 epoch: 57.57631182670593 secs\n",
      "\n",
      "Epoch 17 Batch 0 Loss 0.6261 Accuracy 0.3030\n",
      "Epoch 17 Batch 50 Loss 0.6396 Accuracy 0.3257\n",
      "Epoch 17 Batch 100 Loss 0.6424 Accuracy 0.3286\n",
      "Epoch 17 Batch 150 Loss 0.6403 Accuracy 0.3288\n",
      "Epoch 17 Batch 200 Loss 0.6419 Accuracy 0.3299\n",
      "Epoch 17 Batch 250 Loss 0.6391 Accuracy 0.3293\n",
      "Epoch 17 Batch 300 Loss 0.6405 Accuracy 0.3296\n",
      "Epoch 17 Batch 350 Loss 0.6387 Accuracy 0.3299\n",
      "Epoch 17 Batch 400 Loss 0.6387 Accuracy 0.3302\n",
      "Epoch 17 Batch 450 Loss 0.6375 Accuracy 0.3302\n",
      "Epoch 17 Batch 500 Loss 0.6382 Accuracy 0.3304\n",
      "Epoch 17 Batch 550 Loss 0.6376 Accuracy 0.3305\n",
      "Epoch 17 Batch 600 Loss 0.6377 Accuracy 0.3302\n",
      "Epoch 17 Batch 650 Loss 0.6365 Accuracy 0.3304\n",
      "Epoch 17 Batch 700 Loss 0.6346 Accuracy 0.3308\n",
      "Epoch 17 Loss 0.6341 Accuracy 0.3308\n",
      "Time taken for 1 epoch: 57.4317409992218 secs\n",
      "\n",
      "Epoch 18 Batch 0 Loss 0.5906 Accuracy 0.3138\n",
      "Epoch 18 Batch 50 Loss 0.6193 Accuracy 0.3295\n",
      "Epoch 18 Batch 100 Loss 0.6165 Accuracy 0.3326\n",
      "Epoch 18 Batch 150 Loss 0.6146 Accuracy 0.3327\n",
      "Epoch 18 Batch 200 Loss 0.6164 Accuracy 0.3338\n",
      "Epoch 18 Batch 250 Loss 0.6135 Accuracy 0.3331\n",
      "Epoch 18 Batch 300 Loss 0.6148 Accuracy 0.3335\n",
      "Epoch 18 Batch 350 Loss 0.6133 Accuracy 0.3337\n",
      "Epoch 18 Batch 400 Loss 0.6126 Accuracy 0.3341\n",
      "Epoch 18 Batch 450 Loss 0.6114 Accuracy 0.3341\n",
      "Epoch 18 Batch 500 Loss 0.6123 Accuracy 0.3341\n",
      "Epoch 18 Batch 550 Loss 0.6124 Accuracy 0.3342\n",
      "Epoch 18 Batch 600 Loss 0.6119 Accuracy 0.3339\n",
      "Epoch 18 Batch 650 Loss 0.6106 Accuracy 0.3342\n",
      "Epoch 18 Batch 700 Loss 0.6089 Accuracy 0.3345\n",
      "Epoch 18 Loss 0.6084 Accuracy 0.3346\n",
      "Time taken for 1 epoch: 57.48375201225281 secs\n",
      "\n",
      "Epoch 19 Batch 0 Loss 0.5732 Accuracy 0.3142\n",
      "Epoch 19 Batch 50 Loss 0.5950 Accuracy 0.3330\n",
      "Epoch 19 Batch 100 Loss 0.5929 Accuracy 0.3370\n",
      "Epoch 19 Batch 150 Loss 0.5902 Accuracy 0.3369\n",
      "Epoch 19 Batch 200 Loss 0.5922 Accuracy 0.3377\n",
      "Epoch 19 Batch 250 Loss 0.5895 Accuracy 0.3370\n",
      "Epoch 19 Batch 300 Loss 0.5909 Accuracy 0.3374\n",
      "Epoch 19 Batch 350 Loss 0.5907 Accuracy 0.3373\n",
      "Epoch 19 Batch 400 Loss 0.5899 Accuracy 0.3377\n",
      "Epoch 19 Batch 450 Loss 0.5891 Accuracy 0.3376\n",
      "Epoch 19 Batch 500 Loss 0.5903 Accuracy 0.3377\n",
      "Epoch 19 Batch 550 Loss 0.5903 Accuracy 0.3376\n",
      "Epoch 19 Batch 600 Loss 0.5903 Accuracy 0.3375\n",
      "Epoch 19 Batch 650 Loss 0.5893 Accuracy 0.3377\n",
      "Epoch 19 Batch 700 Loss 0.5877 Accuracy 0.3380\n",
      "Epoch 19 Loss 0.5873 Accuracy 0.3380\n",
      "Time taken for 1 epoch: 57.4070463180542 secs\n",
      "\n",
      "Epoch 20 Batch 0 Loss 0.5383 Accuracy 0.3203\n",
      "Epoch 20 Batch 50 Loss 0.5742 Accuracy 0.3363\n",
      "Epoch 20 Batch 100 Loss 0.5714 Accuracy 0.3399\n",
      "Epoch 20 Batch 150 Loss 0.5691 Accuracy 0.3397\n",
      "Epoch 20 Batch 200 Loss 0.5714 Accuracy 0.3406\n",
      "Epoch 20 Batch 250 Loss 0.5694 Accuracy 0.3396\n",
      "Epoch 20 Batch 300 Loss 0.5696 Accuracy 0.3403\n",
      "Epoch 20 Batch 350 Loss 0.5687 Accuracy 0.3406\n",
      "Epoch 20 Batch 400 Loss 0.5683 Accuracy 0.3411\n",
      "Epoch 20 Batch 450 Loss 0.5680 Accuracy 0.3409\n",
      "Epoch 20 Batch 500 Loss 0.5686 Accuracy 0.3410\n",
      "Epoch 20 Batch 550 Loss 0.5687 Accuracy 0.3412\n",
      "Epoch 20 Batch 600 Loss 0.5685 Accuracy 0.3409\n",
      "Epoch 20 Batch 650 Loss 0.5675 Accuracy 0.3411\n",
      "Epoch 20 Batch 700 Loss 0.5659 Accuracy 0.3414\n",
      "Saving checkpoint for epoch 20 at ./checkpoints/train\\ckpt-4\n",
      "Epoch 20 Loss 0.5655 Accuracy 0.3414\n",
      "Time taken for 1 epoch: 57.41181683540344 secs\n",
      "\n"
     ]
    }
   ],
   "source": [
    "for epoch in range(EPOCHS):\n",
    "    start = time.time()\n",
    "\n",
    "    train_loss.reset_states()\n",
    "    train_accuracy.reset_states()\n",
    "\n",
    "    # inp -> portuguese, tar -> english\n",
    "    for (batch, (inp, tar)) in enumerate(train_dataset):\n",
    "        train_step(inp, tar)\n",
    "    \n",
    "        if batch % 50 == 0:\n",
    "              print ('Epoch {} Batch {} Loss {:.4f} Accuracy {:.4f}'.format(\n",
    "          epoch + 1, batch, train_loss.result(), train_accuracy.result()))\n",
    "      \n",
    "    if (epoch + 1) % 5 == 0:\n",
    "        ckpt_save_path = ckpt_manager.save()\n",
    "        print ('Saving checkpoint for epoch {} at {}'.format(epoch+1,\n",
    "                                                         ckpt_save_path))\n",
    "    \n",
    "    print ('Epoch {} Loss {:.4f} Accuracy {:.4f}'.format(epoch + 1, \n",
    "                                                train_loss.result(), \n",
    "                                                train_accuracy.result()))\n",
    "\n",
    "    print ('Time taken for 1 epoch: {} secs\\n'.format(time.time() - start))"
   ]
  },
  {
   "cell_type": "code",
   "execution_count": 65,
   "metadata": {},
   "outputs": [],
   "source": [
    "def evaluate(inp_sentence):\n",
    "    start_token = [tokenizer_pt.vocab_size]\n",
    "    end_token = [tokenizer_pt.vocab_size + 1]\n",
    "\n",
    "    # inp sentence is portuguese, hence adding the start and end token\n",
    "    inp_sentence = start_token + tokenizer_pt.encode(inp_sentence) + end_token\n",
    "    encoder_input = tf.expand_dims(inp_sentence, 0)\n",
    "\n",
    "    # as the target is english, the first word to the transformer should be the\n",
    "    # english start token.\n",
    "    decoder_input = [tokenizer_en.vocab_size]\n",
    "    output = tf.expand_dims(decoder_input, 0)\n",
    "\n",
    "    for i in range(MAX_LENGTH):\n",
    "        enc_padding_mask, combined_mask, dec_padding_mask = create_masks(\n",
    "            encoder_input, output)\n",
    "\n",
    "        # predictions.shape == (batch_size, seq_len, vocab_size)\n",
    "        predictions, attention_weights = transformer(encoder_input, \n",
    "                                                     output,\n",
    "                                                     False,\n",
    "                                                     enc_padding_mask,\n",
    "                                                     combined_mask,\n",
    "                                                     dec_padding_mask)\n",
    "\n",
    "        # select the last word from the seq_len dimension\n",
    "        predictions = predictions[: ,-1:, :]  # (batch_size, 1, vocab_size)\n",
    "\n",
    "        predicted_id = tf.cast(tf.argmax(predictions, axis=-1), tf.int32)\n",
    "\n",
    "        # return the result if the predicted_id is equal to the end token\n",
    "        if tf.equal(predicted_id, tokenizer_en.vocab_size+1):\n",
    "            return tf.squeeze(output, axis=0), attention_weights\n",
    "\n",
    "        # concatentate the predicted_id to the output which is given to the decoder\n",
    "        # as its input.\n",
    "        output = tf.concat([output, predicted_id], axis=-1)\n",
    "\n",
    "    return tf.squeeze(output, axis=0), attention_weights"
   ]
  },
  {
   "cell_type": "code",
   "execution_count": 66,
   "metadata": {},
   "outputs": [],
   "source": [
    "def plot_attention_weights(attention, sentence, result, layer):\n",
    "    fig = plt.figure(figsize=(16, 8))\n",
    "\n",
    "    sentence = tokenizer_pt.encode(sentence)\n",
    "\n",
    "    attention = tf.squeeze(attention[layer], axis=0)\n",
    "\n",
    "    for head in range(attention.shape[0]):\n",
    "        ax = fig.add_subplot(2, 4, head+1)\n",
    "\n",
    "        # plot the attention weights\n",
    "        ax.matshow(attention[head][:-1, :], cmap='viridis')\n",
    "\n",
    "        fontdict = {'fontsize': 10}\n",
    "\n",
    "        ax.set_xticks(range(len(sentence)+2))\n",
    "        ax.set_yticks(range(len(result)))\n",
    "\n",
    "        ax.set_ylim(len(result)-1.5, -0.5)\n",
    "\n",
    "        ax.set_xticklabels(\n",
    "            ['<start>']+[tokenizer_pt.decode([i]) for i in sentence]+['<end>'], \n",
    "            fontdict=fontdict, rotation=90)\n",
    "\n",
    "        ax.set_yticklabels([tokenizer_en.decode([i]) for i in result \n",
    "                            if i < tokenizer_en.vocab_size], \n",
    "                           fontdict=fontdict)\n",
    "\n",
    "        ax.set_xlabel('Head {}'.format(head+1))\n",
    "  \n",
    "    plt.tight_layout()\n",
    "    plt.show()"
   ]
  },
  {
   "cell_type": "code",
   "execution_count": 67,
   "metadata": {},
   "outputs": [],
   "source": [
    "def translate(sentence, plot=''):\n",
    "    result, attention_weights = evaluate(sentence)\n",
    "\n",
    "    predicted_sentence = tokenizer_en.decode([i for i in result \n",
    "                                            if i < tokenizer_en.vocab_size])  \n",
    "\n",
    "    print('Input: {}'.format(sentence))\n",
    "    print('Predicted translation: {}'.format(predicted_sentence))\n",
    "\n",
    "    if plot:\n",
    "        plot_attention_weights(attention_weights, sentence, result, plot)"
   ]
  },
  {
   "cell_type": "code",
   "execution_count": 68,
   "metadata": {},
   "outputs": [
    {
     "name": "stdout",
     "output_type": "stream",
     "text": [
      "Input: este é um problema que temos que resolver.\n",
      "Predicted translation: this is a problem that we have to solve the u.s .\n",
      "Real translation: this is a problem we have to solve .\n"
     ]
    }
   ],
   "source": [
    "translate(\"este é um problema que temos que resolver.\")\n",
    "print (\"Real translation: this is a problem we have to solve .\")"
   ]
  },
  {
   "cell_type": "code",
   "execution_count": 69,
   "metadata": {},
   "outputs": [
    {
     "name": "stdout",
     "output_type": "stream",
     "text": [
      "Input: os meus vizinhos ouviram sobre esta ideia.\n",
      "Predicted translation: my neighbors heard about this idea .\n",
      "Real translation: and my neighboring homes heard about this idea .\n"
     ]
    }
   ],
   "source": [
    "translate(\"os meus vizinhos ouviram sobre esta ideia.\")\n",
    "print (\"Real translation: and my neighboring homes heard about this idea .\")"
   ]
  },
  {
   "cell_type": "code",
   "execution_count": 70,
   "metadata": {},
   "outputs": [
    {
     "name": "stdout",
     "output_type": "stream",
     "text": [
      "Input: vou então muito rapidamente partilhar convosco algumas histórias de algumas coisas mágicas que aconteceram.\n",
      "Predicted translation: so i 'll quickly share with you some of some magic magic stories that happened .\n",
      "Real translation: so i 'll just share with you some stories very quickly of some magical things that have happened .\n"
     ]
    }
   ],
   "source": [
    "translate(\"vou então muito rapidamente partilhar convosco algumas histórias de algumas coisas mágicas que aconteceram.\")\n",
    "print (\"Real translation: so i 'll just share with you some stories very quickly of some magical things that have happened .\")"
   ]
  },
  {
   "cell_type": "code",
   "execution_count": 71,
   "metadata": {},
   "outputs": [
    {
     "name": "stdout",
     "output_type": "stream",
     "text": [
      "Input: este é o primeiro livro que eu fiz.\n",
      "Predicted translation: this is the first book that i did it .\n"
     ]
    },
    {
     "data": {
      "image/png": "[encoded data removed]",
      "text/plain": [
       "<Figure size 1152x576 with 8 Axes>"
      ]
     },
     "metadata": {
      "needs_background": "light"
     },
     "output_type": "display_data"
    },
    {
     "name": "stdout",
     "output_type": "stream",
     "text": [
      "Real translation: this is the first book i've ever done.\n"
     ]
    }
   ],
   "source": [
    "translate(\"este é o primeiro livro que eu fiz.\", plot='decoder_layer4_block2')\n",
    "print (\"Real translation: this is the first book i've ever done.\")"
   ]
  },
  {
   "cell_type": "code",
   "execution_count": null,
   "metadata": {},
   "outputs": [],
   "source": []
  }
 ],
 "metadata": {
  "kernelspec": {
   "display_name": "Python 3",
   "language": "python",
   "name": "python3"
  },
  "language_info": {
   "codemirror_mode": {
    "name": "ipython",
    "version": 3
   },
   "file_extension": ".py",
   "mimetype": "text/x-python",
   "name": "python",
   "nbconvert_exporter": "python",
   "pygments_lexer": "ipython3",
   "version": "3.6.8"
  }
 },
 "nbformat": 4,
 "nbformat_minor": 1
}
